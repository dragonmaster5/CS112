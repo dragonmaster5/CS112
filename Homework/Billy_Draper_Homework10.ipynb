{
 "cells": [
  {
   "cell_type": "code",
   "execution_count": 4,
   "id": "ea33495a-a269-4569-9600-52e2084c31b5",
   "metadata": {},
   "outputs": [],
   "source": [
    "import numpy as np\n",
    "import matplotlib.pyplot as plt"
   ]
  },
  {
   "cell_type": "markdown",
   "id": "d1958472-f509-4934-9f4a-56f4aba1e93f",
   "metadata": {},
   "source": [
    "**Problem 1** Given the following numpy array\n",
    "\n",
    "my_arr = np . array ([2 , 3 , -4 , 5 , 7 , -5 , 10])\n",
    "\n",
    "Use boolean indexing to answer the following questions.\n",
    "\n",
    "(1) Create a new array that contains only the positive elements from the original array.\n",
    "\n",
    "(2) Create a new array that contains only the elements that are negative and even from\n",
    "the original array.\n",
    "\n",
    "(3) Create a new array that contains elements that are multiple of 5 or multiple of 3.\n",
    "\n",
    "(4) How many elements are even, positive, and less than 20?\n"
   ]
  },
  {
   "cell_type": "code",
   "execution_count": 8,
   "id": "920d58a6-f917-4f19-88ff-79b754783922",
   "metadata": {},
   "outputs": [],
   "source": [
    "my_arr = np . array ([2 , 3 , -4 , 5 , 7 , -5 , 10])"
   ]
  },
  {
   "cell_type": "markdown",
   "id": "00757eaf-a5fc-4852-bf7f-8e8e5e9bbfc7",
   "metadata": {},
   "source": [
    "**1)** The new array *posEle* contains only positive numbers from the originial array"
   ]
  },
  {
   "cell_type": "code",
   "execution_count": 6,
   "id": "f11b84c4-5424-4710-98e4-6905ffefb6ee",
   "metadata": {},
   "outputs": [
    {
     "name": "stdout",
     "output_type": "stream",
     "text": [
      "The positive numbers in the original array: [ 2  3  5  7 10]\n"
     ]
    }
   ],
   "source": [
    "posEle= my_arr[my_arr>0]\n",
    "print(f\"The positive numbers in the original array: {posEle}\")"
   ]
  },
  {
   "cell_type": "markdown",
   "id": "fab7cda2-2978-4776-ab52-170a91f75a73",
   "metadata": {},
   "source": [
    "**2)** *negativeEven* is a new array containing only numbers in the originial array that are negative and even "
   ]
  },
  {
   "cell_type": "code",
   "execution_count": 7,
   "id": "d68ccd3d-fc23-479f-b535-2f2b127107d3",
   "metadata": {},
   "outputs": [
    {
     "name": "stdout",
     "output_type": "stream",
     "text": [
      " The negative and even numbers from the original array: [-4]\n"
     ]
    }
   ],
   "source": [
    "negativeEven = my_arr[(my_arr<0) & (my_arr%2==0)]\n",
    "print(f\" The negative and even numbers from the original array: {negativeEven}\")"
   ]
  },
  {
   "cell_type": "markdown",
   "id": "27003278-9249-4641-8b6a-d331dfd23eab",
   "metadata": {},
   "source": [
    "**3)** *mult3or5* is a new array which holds numbers which are multiples of 3 and 5 from the original array"
   ]
  },
  {
   "cell_type": "code",
   "execution_count": 7,
   "id": "700db9fd-8f2b-4f55-b8eb-a5a837ac3d2c",
   "metadata": {},
   "outputs": [
    {
     "name": "stdout",
     "output_type": "stream",
     "text": [
      "The multiples of 3 and 5 in the original array are: [ 3  5 -5 10]\n"
     ]
    }
   ],
   "source": [
    "mult3Or5= my_arr[(my_arr%3==0) | (my_arr%5==0)]\n",
    "print(f\"The multiples of 3 and 5 in the original array are: {mult3Or5}\")"
   ]
  },
  {
   "cell_type": "markdown",
   "id": "caa370e2-25b6-422d-814b-46663106c547",
   "metadata": {},
   "source": [
    "**4)** Prints how many elements are even, positive, and less than 20 using boolean indexing "
   ]
  },
  {
   "cell_type": "code",
   "execution_count": 8,
   "id": "99ca6d35-70bb-428a-82aa-aadc92d7a6ce",
   "metadata": {},
   "outputs": [
    {
     "name": "stdout",
     "output_type": "stream",
     "text": [
      "Ammount of elements that are even, positive, and less than 20 [ 2 10]\n"
     ]
    }
   ],
   "source": [
    "print(f\"Ammount of elements that are even, positive, and less than 20 {my_arr[((my_arr>0)&(my_arr<20)) & (my_arr%2==0)]}\")  "
   ]
  },
  {
   "cell_type": "markdown",
   "id": "32d4b35a-f538-46b9-a588-e702c734e479",
   "metadata": {},
   "source": [
    "**Problem 2.** The following numpy array represents the daily electricity usage (in kWh)\n",
    "for a week\n",
    "\n",
    "daily_use = np . array ([10 , 7 , 14 , 9 , 11 , 8 , 10])\n",
    "\n",
    "(1) Find the mean, the standard deviation, and the range of this data set.\n",
    "\n",
    "(2) How many days is the usage above 10?\n",
    "\n",
    "(3) Assuming a rate of $0.12 per kWh, find the cost for each day.\n",
    "\n",
    "(4) Find the total cost for this week, assuming that the customer has to pay a 10 %\n",
    "tax as well."
   ]
  },
  {
   "cell_type": "code",
   "execution_count": 23,
   "id": "48bbe11f-76bb-4eb0-8a26-582e2a37f0e3",
   "metadata": {},
   "outputs": [],
   "source": [
    "dailyUse = np . array ([10 , 7 , 14 , 9 , 11 , 8 , 10])"
   ]
  },
  {
   "cell_type": "markdown",
   "id": "7184fa3e-540c-4e2d-9a1d-4fa6926e21d7",
   "metadata": {},
   "source": [
    "**1)** Prints the mean, standard deviation and the range of this dataset. "
   ]
  },
  {
   "cell_type": "code",
   "execution_count": 26,
   "id": "a06a6bf4-8180-4720-b024-98fdd4eac911",
   "metadata": {},
   "outputs": [
    {
     "name": "stdout",
     "output_type": "stream",
     "text": [
      "Mean: 9.857142857142858\n",
      "STD : 2.0995626366712954\n",
      "Range: 7\n"
     ]
    }
   ],
   "source": [
    "meanDU=dailyUse.mean()\n",
    "print(f\"Mean: {meanDU}\")\n",
    "stdDU=dailyUse.std()\n",
    "print(f\"STD : {stdDU}\")\n",
    "rangeDU= dailyUse.max()-dailyUse.min()\n",
    "print(f\"Range: {rangeDU}\")"
   ]
  },
  {
   "cell_type": "markdown",
   "id": "d2f3a6c7-53bd-474f-9f74-7809f28c500d",
   "metadata": {},
   "source": [
    "**2)** The number of days above 10 "
   ]
  },
  {
   "cell_type": "code",
   "execution_count": 27,
   "id": "3ec36f65-c529-40da-b28b-87ef99c6d9d9",
   "metadata": {},
   "outputs": [
    {
     "name": "stdout",
     "output_type": "stream",
     "text": [
      "Number of days above 10 kWh : 2\n"
     ]
    }
   ],
   "source": [
    "print(f\"Number of days above 10 kWh : { len(dailyUse[dailyUse>10])}\")"
   ]
  },
  {
   "cell_type": "markdown",
   "id": "556857c6-d8de-4eae-ad34-59ad7fbed7b6",
   "metadata": {},
   "source": [
    "**3)** Assuming a rate of $0.12 per kWh, prints the price of each day"
   ]
  },
  {
   "cell_type": "code",
   "execution_count": 29,
   "id": "a7ca1e95-e5fa-40ba-9f23-293167238434",
   "metadata": {},
   "outputs": [
    {
     "name": "stdout",
     "output_type": "stream",
     "text": [
      "Cost of each day is: [1.2  0.84 1.68 1.08 1.32 0.96 1.2 ]\n"
     ]
    }
   ],
   "source": [
    "pricePerDay= dailyUse*0.12\n",
    "print(f\"Cost of each day is: {pricePerDay}\")"
   ]
  },
  {
   "cell_type": "markdown",
   "id": "2c437f27-02c4-45f1-ae7f-63efe99126a2",
   "metadata": {},
   "source": [
    "**4)** Prints the total cost of the week with 10% tax"
   ]
  },
  {
   "cell_type": "code",
   "execution_count": 30,
   "id": "51095c87-9abd-45c8-8764-a24c9127b353",
   "metadata": {},
   "outputs": [
    {
     "name": "stdout",
     "output_type": "stream",
     "text": [
      "Total Cost: $9.11\n"
     ]
    }
   ],
   "source": [
    "totalCost= sum(pricePerDay)+sum(pricePerDay)*0.1\n",
    "\n",
    "print(f\"Total Cost: ${totalCost.round(2)}\")"
   ]
  },
  {
   "cell_type": "markdown",
   "id": "19909555-5b88-424b-8ec6-d5f4071e1180",
   "metadata": {},
   "source": [
    "**Problem 3.**\n",
    "The following numpy array represents the daily step count for a week\n",
    "\n",
    "steps = np . array ([7000 , 8500 , 9000 , 7500 , 10000 , 6500 , 8000 , 9000 ,\n",
    "8000 , 7000])\n",
    "\n",
    "(1) Calculate the total steps for the week.\n",
    "\n",
    "(2) Finds the average daily steps.\n",
    "\n",
    "(3) How many days does the user meet the goal of 8000 steps.\n",
    "\n",
    "(4) Create a line plot and a box plot for this data set."
   ]
  },
  {
   "cell_type": "code",
   "execution_count": 31,
   "id": "634f9a7d-78a0-40d1-b04f-7b8331d456db",
   "metadata": {},
   "outputs": [],
   "source": [
    "steps = np . array ([7000 , 8500 , 9000 , 7500 , 10000 , 6500 , 8000 , 9000 , 8000 , 7000])"
   ]
  },
  {
   "cell_type": "markdown",
   "id": "4fc7cfc2-3ca1-43cd-9ed1-0012f9ded51e",
   "metadata": {},
   "source": [
    "**1)** Prints the total steps per week "
   ]
  },
  {
   "cell_type": "code",
   "execution_count": 32,
   "id": "7655c43a-b8bc-4407-9720-849d641bfbbe",
   "metadata": {},
   "outputs": [
    {
     "name": "stdout",
     "output_type": "stream",
     "text": [
      "Total steps: 80500\n"
     ]
    }
   ],
   "source": [
    "totalSteps= np.sum(steps)\n",
    "print(f\"Total steps: {totalSteps}\")"
   ]
  },
  {
   "cell_type": "markdown",
   "id": "8b4904d4-8a66-4cdd-b23f-83019192fe79",
   "metadata": {},
   "source": [
    "**2)** prints the average daily steps "
   ]
  },
  {
   "cell_type": "code",
   "execution_count": 33,
   "id": "12c6aca6-fa41-4c8d-99e1-66656ffc804f",
   "metadata": {},
   "outputs": [
    {
     "name": "stdout",
     "output_type": "stream",
     "text": [
      "Average Steps per day: 8050.0\n"
     ]
    }
   ],
   "source": [
    "print(f\"Average Steps per day: {totalSteps/len(steps)}\")"
   ]
  },
  {
   "cell_type": "markdown",
   "id": "9fd00e7e-898c-4241-b572-24cc41006d96",
   "metadata": {},
   "source": [
    "**3)** Prints the amount of days the user meets their goals of 8000 steps"
   ]
  },
  {
   "cell_type": "code",
   "execution_count": 34,
   "id": "ca4a0d9f-abb7-49a5-9991-def1d02e772b",
   "metadata": {},
   "outputs": [
    {
     "name": "stdout",
     "output_type": "stream",
     "text": [
      "Amount of days Goal is met: 4\n"
     ]
    }
   ],
   "source": [
    "print(f\"Amount of days Goal is met: {len(steps[steps>8000])}\")"
   ]
  },
  {
   "cell_type": "markdown",
   "id": "f1c0d60e-f09b-4b17-943f-838c2ff3d911",
   "metadata": {},
   "source": [
    "**4)** Plots a linear graph and a histograph, which represents the array steps."
   ]
  },
  {
   "cell_type": "code",
   "execution_count": 35,
   "id": "a6ca5fe6-ad1e-4167-beee-e04a7d21efe3",
   "metadata": {},
   "outputs": [
    {
     "data": {
      "image/png": "[encoded data removed]",
      "text/plain": [
       "<Figure size 640x480 with 1 Axes>"
      ]
     },
     "metadata": {},
     "output_type": "display_data"
    },
    {
     "data": {
      "image/png": "[encoded data removed]",
      "text/plain": [
       "<Figure size 640x480 with 1 Axes>"
      ]
     },
     "metadata": {},
     "output_type": "display_data"
    }
   ],
   "source": [
    "plt.plot(steps)\n",
    "plt.title(\"Graph of the steps taken per day\")\n",
    "plt.show()\n",
    "plt.hist(steps)\n",
    "plt.title(\"Histogram for step array\")\n",
    "plt.show()"
   ]
  },
  {
   "cell_type": "code",
   "execution_count": 36,
   "id": "78f29c82-1c92-41e6-af26-9f6e1558e50b",
   "metadata": {},
   "outputs": [
    {
     "name": "stdout",
     "output_type": "stream",
     "text": [
      " Mean: 48.93\n",
      " Std: 27.41\n"
     ]
    }
   ],
   "source": [
    "npFile= np.load(\"C:\\\\Users\\\\Billy\\\\PycharmProjects\\\\CS112\\\\scores_data.npy\")\n",
    "print(f\" Mean: {npFile.mean().round(2)}\")\n",
    "print(f\" Std: {npFile.std().round(2)}\")"
   ]
  },
  {
   "cell_type": "markdown",
   "id": "71b2f183-5fb7-412e-954a-871f48040e7f",
   "metadata": {},
   "source": [
    "**Problem 4.** A biologist is studying red maple trees in the Chicago area. He recorded the\n",
    "heights (measured in feet) of these trees in a numpy file named tree heights.\n",
    "\n",
    "(1) How many trees did the biologist record?\n",
    "\n",
    "(2) Calculate the mean, the standard deviation, and the range of this data set.\n",
    "1\n",
    "\n",
    "(3) Create a histogram and a boxplot for this data set.\n",
    "\n",
    "(4) What percentage of trees are taller than 60 feet?\n",
    "\n",
    "(5) The biologist wants to use the trees height to (approximately) calculate its diameter. The model that he uses is\n",
    "diameter = 0.54 log(height) + 0.37.\n",
    "\n",
    "Here log is the logarithm function. In Python, you can calculate by using np.log.\n",
    "Use this model to calculate the diameter of each tree in the dataset.\n",
    "(6) Create a histogram for the diameter data.\n",
    "\n",
    "(7) Estimate the volume of each tree in the dataset, assuming each tree has the shape\n",
    "of a cylinder. The volume can be calculated using the formula:\n",
    "$V= \\frac{1}{4}(diameter)^2*(height)$\n",
    "\n",
    "(8) Create a boxplot for the volume."
   ]
  },
  {
   "cell_type": "code",
   "execution_count": 72,
   "id": "606be605-d999-4ad7-bcaf-1cd7bc69a568",
   "metadata": {},
   "outputs": [],
   "source": [
    "treeHeight=np.load(\"C:\\\\Users\\\\Billy\\\\PycharmProjects\\\\CS112\\\\tree_heights.npy\")"
   ]
  },
  {
   "cell_type": "markdown",
   "id": "262b682b-ebdf-4482-99c2-eceeac1b5481",
   "metadata": {},
   "source": [
    "**1)** The number of trees recoreded"
   ]
  },
  {
   "cell_type": "code",
   "execution_count": 73,
   "id": "56ada147-ad8a-4003-b0bc-5f4fe4fc4626",
   "metadata": {},
   "outputs": [
    {
     "name": "stdout",
     "output_type": "stream",
     "text": [
      "Trees Recorded: 1000\n"
     ]
    }
   ],
   "source": [
    "print(f\"Trees Recorded: {len(treeHeight)}\")"
   ]
  },
  {
   "cell_type": "markdown",
   "id": "6deb44be-b8f6-4feb-97c2-b33fa245b7d1",
   "metadata": {},
   "source": [
    "**2)** The mean, range, and std of the tree heights recorded"
   ]
  },
  {
   "cell_type": "code",
   "execution_count": 39,
   "id": "ed215ff0-1311-4266-b3f8-a9ac76bf0314",
   "metadata": {},
   "outputs": [
    {
     "name": "stdout",
     "output_type": "stream",
     "text": [
      "Mean: 50.12\n",
      "STD : 1.96\n",
      "Range: 12.59\n"
     ]
    }
   ],
   "source": [
    "meanTH=treeHeight.mean()\n",
    "print(f\"Mean: {meanTH.round(2)}\")\n",
    "stdTH=treeHeight.std()\n",
    "print(f\"STD : {stdTH.round(2)}\")\n",
    "rangeTH= treeHeight.max()-treeHeight.min()\n",
    "print(f\"Range: {rangeTH.round(2)}\")"
   ]
  },
  {
   "cell_type": "markdown",
   "id": "41253cb7-8f1d-4ac4-922b-61d54a20e1c0",
   "metadata": {},
   "source": [
    "**3)** Box plot and histogram for the height of the trees"
   ]
  },
  {
   "cell_type": "code",
   "execution_count": 45,
   "id": "df78904c-3cba-4a50-bf17-037f0e3daf2f",
   "metadata": {},
   "outputs": [
    {
     "data": {
      "image/png": "[encoded data removed]",
      "text/plain": [
       "<Figure size 640x480 with 1 Axes>"
      ]
     },
     "metadata": {},
     "output_type": "display_data"
    },
    {
     "data": {
      "image/png": "[encoded data removed]",
      "text/plain": [
       "<Figure size 640x480 with 1 Axes>"
      ]
     },
     "metadata": {},
     "output_type": "display_data"
    }
   ],
   "source": [
    "plt.boxplot(treeHeight)\n",
    "plt.title(\"tree height Box Plot\")\n",
    "plt.show()\n",
    "plt.hist(treeHeight)\n",
    "plt.title(\"Histogram for tree height\")\n",
    "plt.show()"
   ]
  },
  {
   "cell_type": "markdown",
   "id": "90a3e47e-79da-4c8b-a1ee-fd668c79a149",
   "metadata": {},
   "source": [
    "**4)** Prints the percent of trees taller than 60 feet"
   ]
  },
  {
   "cell_type": "code",
   "execution_count": 54,
   "id": "0b0b27f1-ebf0-4c18-9080-28ca896bf9b3",
   "metadata": {},
   "outputs": [
    {
     "name": "stdout",
     "output_type": "stream",
     "text": [
      "Percent of trees greater than 60 feet: 0%\n"
     ]
    }
   ],
   "source": [
    "percentGreaterThanSixty=len(treeHeight[treeHeight>60]/len(treeHeight))\n",
    "print(f\"Percent of trees greater than 60 feet: {percentGreaterThanSixty}%\")"
   ]
  },
  {
   "cell_type": "markdown",
   "id": "497308a2-b3ea-4f73-9d38-97cc26720afd",
   "metadata": {},
   "source": [
    "**5)** stores the diameters of the trees found using the formula $0.54\\log({height})+0.37$"
   ]
  },
  {
   "cell_type": "code",
   "execution_count": 56,
   "id": "0a3f3415-5739-4e49-aad3-7f40d5f5446c",
   "metadata": {},
   "outputs": [],
   "source": [
    "treeDiameter= 0.54*np.log(treeHeight)+0.37"
   ]
  },
  {
   "cell_type": "markdown",
   "id": "baecb8a7-2a48-427a-9f14-f8a6291252ad",
   "metadata": {},
   "source": [
    "**6)** Plots a histogram for the diameter of the trees"
   ]
  },
  {
   "cell_type": "code",
   "execution_count": 74,
   "id": "7b628ae6-7239-4332-a57e-413f5d4485be",
   "metadata": {},
   "outputs": [
    {
     "data": {
      "image/png": "[encoded data removed]",
      "text/plain": [
       "<Figure size 640x480 with 1 Axes>"
      ]
     },
     "metadata": {},
     "output_type": "display_data"
    }
   ],
   "source": [
    "plt.hist(treeDiameter)\n",
    "plt.title(\"Histogram for the diameter of the trees\")\n",
    "plt.show()"
   ]
  },
  {
   "cell_type": "markdown",
   "id": "36bac6db-c3a5-4843-a51c-09c82a1389b8",
   "metadata": {},
   "source": [
    "**7)** Calculates the volume of the trees using $\\frac{\\pi}{4}(treeDiameter)^2*treeHeight$"
   ]
  },
  {
   "cell_type": "code",
   "execution_count": 67,
   "id": "a591d52d-1e02-4473-8f9d-2db2eeeef9ab",
   "metadata": {},
   "outputs": [],
   "source": [
    "treeVolume=(np.pi/4)*treeDiameter**2*treeHeight\n"
   ]
  },
  {
   "cell_type": "markdown",
   "id": "c820f85e-6002-4770-b28f-5de520b83af6",
   "metadata": {},
   "source": [
    "**8)** plots a box plot for the volume of the trees"
   ]
  },
  {
   "cell_type": "code",
   "execution_count": 71,
   "id": "565ddff3-0f9e-4cdb-a096-2a50fbff1f41",
   "metadata": {},
   "outputs": [
    {
     "data": {
      "image/png": "[encoded data removed]",
      "text/plain": [
       "<Figure size 640x480 with 1 Axes>"
      ]
     },
     "metadata": {},
     "output_type": "display_data"
    }
   ],
   "source": [
    "plt.boxplot(treeVolume)\n",
    "plt.title(\"Box plot for tree volume\")\n",
    "plt.show()"
   ]
  },
  {
   "cell_type": "code",
   "execution_count": null,
   "id": "bcce3c74-869b-477b-8d0b-445ef90ce5fc",
   "metadata": {},
   "outputs": [],
   "source": []
  }
 ],
 "metadata": {
  "kernelspec": {
   "display_name": "Python 3 (ipykernel)",
   "language": "python",
   "name": "python3"
  },
  "language_info": {
   "codemirror_mode": {
    "name": "ipython",
    "version": 3
   },
   "file_extension": ".py",
   "mimetype": "text/x-python",
   "name": "python",
   "nbconvert_exporter": "python",
   "pygments_lexer": "ipython3",
   "version": "3.12.7"
  }
 },
 "nbformat": 4,
 "nbformat_minor": 5
}
