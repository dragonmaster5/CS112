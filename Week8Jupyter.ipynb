{
 "cells": [
  {
   "cell_type": "markdown",
   "id": "dc557435-5e52-4cd8-a4ee-41541cb876ee",
   "metadata": {},
   "source": [
    "**this notebook is an introduction to jupyter**"
   ]
  },
  {
   "cell_type": "code",
   "execution_count": 3,
   "id": "e5091ca1-0b0b-47f6-8dd2-da1363182104",
   "metadata": {},
   "outputs": [
    {
     "name": "stdout",
     "output_type": "stream",
     "text": [
      "Name: Billy, Age: 18\n"
     ]
    }
   ],
   "source": [
    "name= \"Billy\"\n",
    "age= 18\n",
    "print(f\"Name: {name}, Age: {age}\")\n"
   ]
  },
  {
   "cell_type": "code",
   "execution_count": 5,
   "id": "793ca28e-ea10-419b-9f15-a9c5125650aa",
   "metadata": {},
   "outputs": [
    {
     "name": "stdout",
     "output_type": "stream",
     "text": [
      "{'Oranges', 'Bannanas', 'Cantalope'}\n"
     ]
    }
   ],
   "source": [
    "favoriteFruits= {\"Cantalope\", \"Bannanas\", \"Oranges\"}\n",
    "print(favoriteFruits)\n"
   ]
  },
  {
   "cell_type": "code",
   "execution_count": 11,
   "id": "c9e686ce-17d5-4505-8ebc-48fc08b06550",
   "metadata": {},
   "outputs": [],
   "source": [
    "def addTwo(a,b):\n",
    "    return a+b"
   ]
  },
  {
   "cell_type": "code",
   "execution_count": 13,
   "id": "415f5abb-b756-47c8-b989-d63bb9ede160",
   "metadata": {},
   "outputs": [
    {
     "name": "stdout",
     "output_type": "stream",
     "text": [
      "30\n"
     ]
    }
   ],
   "source": [
    "print(addTwo(10,20))\n"
   ]
  },
  {
   "cell_type": "code",
   "execution_count": null,
   "id": "3998b9fc-0520-4828-9f65-8de2aa5f89ff",
   "metadata": {},
   "outputs": [],
   "source": []
  }
 ],
 "metadata": {
  "kernelspec": {
   "display_name": "Python 3 (ipykernel)",
   "language": "python",
   "name": "python3"
  },
  "language_info": {
   "codemirror_mode": {
    "name": "ipython",
    "version": 3
   },
   "file_extension": ".py",
   "mimetype": "text/x-python",
   "name": "python",
   "nbconvert_exporter": "python",
   "pygments_lexer": "ipython3",
   "version": "3.12.7"
  }
 },
 "nbformat": 4,
 "nbformat_minor": 5
}
